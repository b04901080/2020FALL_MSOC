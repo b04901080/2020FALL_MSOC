from __future__ import print_function

import sys
import numpy as np
from time import time

sys.path.append('/home/xilinx')
from pynq import Overlay
from pynq import allocate

if __name__ == "__main__":
    print("Entry:", sys.argv[0])
    print("System argument(s):", len(sys.argv))

    print("Start of \"" + sys.argv[0] + "\"")

    ol = Overlay("./FIR.bit")
    ipDesign = ol.fir_0
    ipDMAIn0 = ol.axi_dma_0
    ipDMAOut0 = ol.axi_dma_1

    inBuffer0 = allocate(shape=(256,), dtype=np.int32)
    outBuffer0 = allocate(shape=(256,), dtype=np.int32)
    
    result = []
    c = [53, 0, -91, 0, 313, 500, 313, 0, -91, 0, 53]
    shift_reg = [0, 0, 0, 0, 0, 0, 0, 0, 0, 0, 0]
    for i in range(256):
        acc = 0
        inBuffer0[i] = i
        for j in range(10, -1, -1):
            if (j == 0):
                shift_reg[0] = i
                acc += shift_reg[0] * c[0]
            else:
                shift_reg[j] = shift_reg[j - 1]
                acc += shift_reg[j] * c[j]
        result.append(acc)

       
    timeKernelStart = time()

    ipDesign.write(0x00, 0x01)
    
    ipDMAIn0.sendchannel.transfer(inBuffer0)
    ipDMAOut0.recvchannel.transfer(outBuffer0)
    ipDMAIn0.sendchannel.wait()
    ipDMAOut0.recvchannel.wait()
    
    timeKernelEnd = time()
    
    print("Kernel execution time: " + str(timeKernelEnd - timeKernelStart) + " s")
    diff = False
    for i in range(256):
        if outBuffer0[i] != result[i]:
            print('{}'.format(outBuffer0[i]))
            print('{}'.format(result[i]))
            diff = True
    
    if diff:
        print("fail")
    else:
        print("pass")
    
    
    print("============================")
    print("Exit process")